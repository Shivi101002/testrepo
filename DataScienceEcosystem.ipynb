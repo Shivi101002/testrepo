{
 "cells": [
  {
   "cell_type": "markdown",
   "id": "f0edcefc-ec43-467b-ad25-4113c372affb",
   "metadata": {},
   "source": [
    "# Data Science Tools and Ecosystem"
   ]
  },
  {
   "cell_type": "markdown",
   "id": "9f33a6ff-8525-479d-9df0-010019a5b698",
   "metadata": {},
   "source": [
    "## In this notebook, Data Science Tools and Ecosystem are summarized."
   ]
  },
  {
   "cell_type": "markdown",
   "id": "b498bf2a-2081-4f3d-acd2-d72919d6ee95",
   "metadata": {},
   "source": [
    "Some of the popular languages that Data Scientists use are:\n",
    "1. SQL\n",
    "2. PYTHON\n",
    "3. R"
   ]
  },
  {
   "cell_type": "markdown",
   "id": "d06a50ed-84b6-4757-8566-25529246361e",
   "metadata": {},
   "source": [
    "Some of the commonly used libraries used by Data Scientists include:\n",
    "1. PANDAS\n",
    "2. NUMPY\n",
    "3. MATPLOTLIB"
   ]
  },
  {
   "cell_type": "markdown",
   "id": "1cbeec4a-cbb2-45ab-bec9-9d7aedb1eb9f",
   "metadata": {},
   "source": [
    "|Data Science Tools|\n",
    "|------------------|\n",
    "|jupyternotebook |\n",
    "|google colab |\n",
    "|jupyter lite|"
   ]
  },
  {
   "cell_type": "markdown",
   "id": "38857201-3486-4007-a1d1-7c4415fc9a22",
   "metadata": {},
   "source": [
    "### Below are a few examples of evaluating arithmetic expressions in Python\n"
   ]
  },
  {
   "cell_type": "code",
   "execution_count": 1,
   "id": "a1db7a2b-832e-4982-878b-670cba37f2a0",
   "metadata": {},
   "outputs": [
    {
     "data": {
      "text/plain": [
       "17"
      ]
     },
     "execution_count": 1,
     "metadata": {},
     "output_type": "execute_result"
    }
   ],
   "source": [
    "#This a simple arithmetic expression to mutiply then add integers\n",
    "(3*4)+5"
   ]
  },
  {
   "cell_type": "code",
   "execution_count": 2,
   "id": "7d890602-fcd1-4f3d-8415-3347780b14b8",
   "metadata": {},
   "outputs": [
    {
     "data": {
      "text/plain": [
       "3.3333333333333335"
      ]
     },
     "execution_count": 2,
     "metadata": {},
     "output_type": "execute_result"
    }
   ],
   "source": [
    "#This will convert 200 minutes to hours by diving by 60.\n",
    "200/60"
   ]
  },
  {
   "cell_type": "markdown",
   "id": "099f75e6-4a2f-4b64-8bf0-8fe2d9af9cdb",
   "metadata": {},
   "source": [
    "**Some takaways from the notebook lesson are:**"
   ]
  },
  {
   "cell_type": "markdown",
   "id": "5eb23254-75b4-426e-b78b-edf0648392a1",
   "metadata": {},
   "source": [
    "- notebook has all the tools needed for the code management and storing processes.\n",
    "- notebooks makes job easy.\n",
    "- anaconda can be the great choice to install any needed enviornment for data sicence related projects."
   ]
  },
  {
   "cell_type": "markdown",
   "id": "ee3a25dd-4480-4f4e-b345-61baa6e01bcf",
   "metadata": {},
   "source": [
    "## Author\n"
   ]
  },
  {
   "cell_type": "markdown",
   "id": "31572e47-00c6-4997-af5b-f0b31e4bba4d",
   "metadata": {},
   "source": [
    "Shivangi Upadhyay"
   ]
  },
  {
   "cell_type": "code",
   "execution_count": null,
   "id": "21a02c1d-9b62-4c01-bec3-216dcf6d56dd",
   "metadata": {},
   "outputs": [],
   "source": []
  }
 ],
 "metadata": {
  "kernelspec": {
   "display_name": "Python 3 (ipykernel)",
   "language": "python",
   "name": "python3"
  },
  "language_info": {
   "codemirror_mode": {
    "name": "ipython",
    "version": 3
   },
   "file_extension": ".py",
   "mimetype": "text/x-python",
   "name": "python",
   "nbconvert_exporter": "python",
   "pygments_lexer": "ipython3",
   "version": "3.12.8"
  }
 },
 "nbformat": 4,
 "nbformat_minor": 5
}
